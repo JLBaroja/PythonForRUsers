{
 "cells": [
  {
   "cell_type": "markdown",
   "metadata": {},
   "source": [
    "# Python for R users\n",
    "# Part 3: Functions\n",
    "\n",
    "In this notebook we will explore how R and Python differ in the creation and usage of functions.\n",
    "\n",
    "First, a general note: Whenever you find yourself doing something more than once, you should put the relevant code inside a function and call that function instead.  Then you can reuse that code whenever you need it in the future. This in keeping with the general software engineering philsophy known as \"Don't Repeat Yourself\" (DRY).  It's also good practice to keep these organized in a central place so that you can always find them --- we will come back to that later.  \n",
    "\n",
    "First we need to tell Jupyter to let us use R within this Python notebook."
   ]
  },
  {
   "cell_type": "code",
   "execution_count": 6,
   "metadata": {},
   "outputs": [
    {
     "name": "stdout",
     "output_type": "stream",
     "text": [
      "The rpy2.ipython extension is already loaded. To reload it, use:\n",
      "  %reload_ext rpy2.ipython\n"
     ]
    }
   ],
   "source": [
    "%load_ext rpy2.ipython"
   ]
  },
  {
   "cell_type": "markdown",
   "metadata": {},
   "source": [
    "## Creating a function\n",
    "\n",
    "Let's say that we want to create our own function that divides two numbers but returns NaN (\"not a number\") if one tries to divide by zero. Here is how we would define this function in R.  "
   ]
  },
  {
   "cell_type": "code",
   "execution_count": 7,
   "metadata": {},
   "outputs": [
    {
     "data": {
      "text/plain": [
       "[1] NaN\n"
      ]
     },
     "metadata": {},
     "output_type": "display_data"
    }
   ],
   "source": [
    "%%R\n",
    "\n",
    "myDivide <- function(i, j){\n",
    "    if (j == 0){\n",
    "        return(NaN)\n",
    "    } else {\n",
    "        return(i/j)\n",
    "    }\n",
    "}\n",
    "\n",
    "myDivide(1,0)"
   ]
  },
  {
   "cell_type": "markdown",
   "metadata": {},
   "source": [
    "Now let's write the analogous function in Python. First, we need to import the math library where nan is defined, then we can define the function. Note that it's generally good practice to put all of the imports at the top of the file, but we will leave it here for clarity."
   ]
  },
  {
   "cell_type": "code",
   "execution_count": 11,
   "metadata": {},
   "outputs": [],
   "source": [
    "import math"
   ]
  },
  {
   "cell_type": "code",
   "execution_count": 13,
   "metadata": {},
   "outputs": [
    {
     "data": {
      "text/plain": [
       "nan"
      ]
     },
     "execution_count": 13,
     "metadata": {},
     "output_type": "execute_result"
    }
   ],
   "source": [
    "def myDivide(i, j):\n",
    "    if j == 0:\n",
    "        return(math.nan)\n",
    "    else:\n",
    "        return(i / j)\n",
    "    \n",
    "myDivide(1, 0)"
   ]
  },
  {
   "cell_type": "code",
   "execution_count": null,
   "metadata": {},
   "outputs": [],
   "source": []
  },
  {
   "cell_type": "code",
   "execution_count": null,
   "metadata": {},
   "outputs": [],
   "source": []
  },
  {
   "cell_type": "code",
   "execution_count": null,
   "metadata": {},
   "outputs": [],
   "source": []
  }
 ],
 "metadata": {
  "kernelspec": {
   "display_name": "Python 3",
   "language": "python",
   "name": "python3"
  },
  "language_info": {
   "codemirror_mode": {
    "name": "ipython",
    "version": 3
   },
   "file_extension": ".py",
   "mimetype": "text/x-python",
   "name": "python",
   "nbconvert_exporter": "python",
   "pygments_lexer": "ipython3",
   "version": "3.6.8"
  }
 },
 "nbformat": 4,
 "nbformat_minor": 2
}
