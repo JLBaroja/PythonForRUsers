{
 "cells": [
  {
   "cell_type": "markdown",
   "metadata": {},
   "source": [
    "# Python for R users\n",
    "# Part 4: Numerical operations\n",
    "\n",
    "In this notebook we will explore how R and Python differ in the use of numerical operations.  In particular we will dig into the Numpy package for numerical operations in Python.  \n",
    "\n",
    "NOTE: A useful cheat sheet is available [here](http://mathesaurus.sourceforge.net/r-numpy.html).\n",
    "\n",
    "\n",
    "First we need to tell Jupyter to let us use R within this Python notebook.  We also need to import the numpy package. Online you will often see people abbreviate numpy by using ```import numpy as np```.  I am not sure why people do this but I like to use the full name of the package unless it's really long."
   ]
  },
  {
   "cell_type": "code",
   "execution_count": 1,
   "metadata": {},
   "outputs": [],
   "source": [
    "import numpy\n",
    "\n",
    "%load_ext rpy2.ipython\n"
   ]
  },
  {
   "cell_type": "markdown",
   "metadata": {},
   "source": [
    "## Basic numerical operations\n",
    "\n",
    "All of the standard arithmetic operators (+, -, /, \\*) and relational operators (==, >, <, >=, <=) are the same between Python and R, with two exceptions: exponentiation and remainders.  Here they are in R:"
   ]
  },
  {
   "cell_type": "code",
   "execution_count": 10,
   "metadata": {},
   "outputs": [
    {
     "data": {
      "text/plain": [
       "[1] 9\n",
       "[1] 2\n"
      ]
     },
     "metadata": {},
     "output_type": "display_data"
    }
   ],
   "source": [
    "%%R\n",
    "\n",
    "print(3^2)\n",
    "print(8 %% 3)"
   ]
  },
  {
   "cell_type": "markdown",
   "metadata": {},
   "source": [
    "Here are the equivalents in Python, where you use \\*\\* instead of ^ and % instead of %%:"
   ]
  },
  {
   "cell_type": "code",
   "execution_count": 12,
   "metadata": {},
   "outputs": [
    {
     "name": "stdout",
     "output_type": "stream",
     "text": [
      "9\n",
      "2\n"
     ]
    }
   ],
   "source": [
    "print(3**2)\n",
    "print(8 % 3)"
   ]
  },
  {
   "cell_type": "markdown",
   "metadata": {},
   "source": [
    "The numpy package includes all of the standard mathematical functions that one might want to perform on a number.  First let's implement them in R:"
   ]
  },
  {
   "cell_type": "code",
   "execution_count": 7,
   "metadata": {},
   "outputs": [
    {
     "data": {
      "text/plain": [
       "[1] 0.9635582\n",
       "[1] 0.2623643\n",
       "[1] 0.1139434\n",
       "[1] 1\n"
      ]
     },
     "metadata": {},
     "output_type": "display_data"
    }
   ],
   "source": [
    "%%R\n",
    "\n",
    "x <- 1.3\n",
    "print(sin(x))  # sine\n",
    "print(log(x))  # natural logarithm\n",
    "print(log10(x))  # base 10 logarithm\n",
    "print(round(x))  # rounding"
   ]
  },
  {
   "cell_type": "code",
   "execution_count": 8,
   "metadata": {},
   "outputs": [
    {
     "name": "stdout",
     "output_type": "stream",
     "text": [
      "0.963558185417193\n",
      "0.26236426446749106\n",
      "0.11394335230683679\n",
      "1.0\n"
     ]
    }
   ],
   "source": [
    "x = 1.3\n",
    "print(numpy.sin(x))  # sine\n",
    "print(numpy.log(x))  # natural logarithm\n",
    "print(numpy.log10(x))  # base 10 logarithm\n",
    "print(numpy.round(x))  # rounding"
   ]
  },
  {
   "cell_type": "markdown",
   "metadata": {},
   "source": [
    "## Logical operations\n",
    "\n",
    "Logical operators are slightly different (and arguably much simpler) in Python compared to R. Here they are in R:"
   ]
  },
  {
   "cell_type": "code",
   "execution_count": 14,
   "metadata": {},
   "outputs": [
    {
     "data": {
      "text/plain": [
       "[1] FALSE\n",
       "[1] TRUE\n",
       "[1] TRUE\n"
      ]
     },
     "metadata": {},
     "output_type": "display_data"
    }
   ],
   "source": [
    "%%R\n",
    "\n",
    "a = TRUE\n",
    "b = FALSE\n",
    "\n",
    "print(a && b) # logical AND\n",
    "print(a || b) # logical OR\n",
    "print(xor(a, b)) # EXCLUSIVE OR\n"
   ]
  },
  {
   "cell_type": "markdown",
   "metadata": {},
   "source": [
    "Here they are in Python:"
   ]
  },
  {
   "cell_type": "code",
   "execution_count": 17,
   "metadata": {},
   "outputs": [
    {
     "name": "stdout",
     "output_type": "stream",
     "text": [
      "False\n",
      "True\n",
      "True\n"
     ]
    }
   ],
   "source": [
    "a = True\n",
    "b = False\n",
    "\n",
    "print(a and b)  # logical AND\n",
    "print(a or b)  # logical OR\n",
    "print(numpy.logical_xor(a,b))  # EXCLUSIVE OR\n"
   ]
  },
  {
   "cell_type": "markdown",
   "metadata": {},
   "source": [
    "## Arrays in Python and R\n",
    "\n",
    "Let's start by discussing single-dimensional arrays (i.e. vectors).  First let's look at how one would do a number of vector operations in R.\n"
   ]
  },
  {
   "cell_type": "code",
   "execution_count": 45,
   "metadata": {},
   "outputs": [
    {
     "data": {
      "text/plain": [
       "[1] 1.0 1.5 2.0 2.5 3.0 3.5 4.0 4.5 5.0\n",
       "[1] 9\n",
       "[1] 1.0 1.5 2.0\n",
       "[1] 4.5 5.0\n",
       "[1] 11.0 11.5 12.0 12.5 13.0 13.5 14.0 14.5 15.0\n",
       "[1] 110 115 120 125 130 135 140 145 150\n",
       " [1]  11.0  11.5  12.0  12.5  13.0  13.5  14.0  14.5  15.0 110.0 115.0 120.0\n",
       "[13] 125.0 130.0 135.0 140.0 145.0 150.0\n"
      ]
     },
     "metadata": {},
     "output_type": "display_data"
    }
   ],
   "source": [
    "%%R\n",
    "\n",
    "# create a vector using seq()\n",
    "a = seq(1,5, 0.5)\n",
    "print(a)\n",
    "\n",
    "# get the length of the vector\n",
    "print(length(a))\n",
    "\n",
    "# extract first 3 elements of vector\n",
    "print(a[1:3])\n",
    "\n",
    "# extract last two elements of vector\n",
    "print(tail(a, 2))\n",
    "\n",
    "# add 10 to all elements\n",
    "b = a + 10\n",
    "print(b)\n",
    "\n",
    "# multiply all elements by 5\n",
    "# we skip using the name \"c\" as a variable here - why?\n",
    "d = b * 10\n",
    "print(d)\n",
    "\n",
    "# concatenate two vectors\n",
    "e = c(b, d)\n",
    "print(e)"
   ]
  },
  {
   "cell_type": "markdown",
   "metadata": {},
   "source": [
    "Here we do the equivalent work in Python:"
   ]
  },
  {
   "cell_type": "code",
   "execution_count": 61,
   "metadata": {},
   "outputs": [
    {
     "name": "stdout",
     "output_type": "stream",
     "text": [
      "[1.  1.5 2.  2.5 3.  3.5 4.  4.5 5. ]\n"
     ]
    },
    {
     "data": {
      "text/plain": [
       "[1] 1\n"
      ]
     },
     "metadata": {},
     "output_type": "display_data"
    },
    {
     "name": "stdout",
     "output_type": "stream",
     "text": [
      "(9,)\n",
      "[1.  1.5 2. ]\n",
      "[4.5 5. ]\n",
      "[11.  11.5 12.  12.5 13.  13.5 14.  14.5 15. ]\n",
      "[110. 115. 120. 125. 130. 135. 140. 145. 150.]\n",
      "[ 11.   11.5  12.   12.5  13.   13.5  14.   14.5  15.  110.  115.  120.\n",
      " 125.  130.  135.  140.  145.  150. ]\n"
     ]
    }
   ],
   "source": [
    "# create a vector using numpy.arange\n",
    "a = numpy.arange(1, 5.5, 0.5)\n",
    "print(a)\n",
    "\n",
    "%R print(1)\n",
    "\n",
    "# get the length of the vector\n",
    "print(a.shape)\n",
    "\n",
    "# extract first 3 elements of vector\n",
    "print(a[:3])\n",
    "\n",
    "# extract last two elements of vector\n",
    "print(a[-2:])\n",
    "\n",
    "# add 10 to all elements\n",
    "b = a + 10\n",
    "print(b)\n",
    "\n",
    "# multiply all elements by 5\n",
    "d = b * 10\n",
    "print(d)\n",
    "\n",
    "# concatenate two vectors\n",
    "# NOTE: the two vectors being concatenated must be provided to the function as a tuple.\n",
    "e = numpy. concatenate((b, d))\n",
    "print(e)"
   ]
  },
  {
   "cell_type": "markdown",
   "metadata": {},
   "source": [
    "Just as in R, many numpy functions are *vectorized* meaning that if one inputs a vector, they will output a vector with the operation applied independently to each element."
   ]
  },
  {
   "cell_type": "code",
   "execution_count": 47,
   "metadata": {},
   "outputs": [
    {
     "data": {
      "text/plain": [
       " [1] 0.000000e+00 3.090170e-01 5.877853e-01 8.090170e-01 9.510565e-01\n",
       " [6] 1.000000e+00 9.510565e-01 8.090170e-01 5.877853e-01 3.090170e-01\n",
       "[11] 1.224647e-16\n"
      ]
     },
     "metadata": {},
     "output_type": "display_data"
    }
   ],
   "source": [
    "%%R\n",
    "\n",
    "x = seq(0,pi, pi/10)\n",
    "print(sin(x))"
   ]
  },
  {
   "cell_type": "code",
   "execution_count": 52,
   "metadata": {},
   "outputs": [
    {
     "name": "stdout",
     "output_type": "stream",
     "text": [
      "[0.00000000e+00 3.09016994e-01 5.87785252e-01 8.09016994e-01\n",
      " 9.51056516e-01 1.00000000e+00 9.51056516e-01 8.09016994e-01\n",
      " 5.87785252e-01 3.09016994e-01 1.22464680e-16]\n"
     ]
    }
   ],
   "source": [
    "x = numpy.arange(0, numpy.pi*1.01, numpy.pi/10)\n",
    "print(numpy.sin(x))"
   ]
  },
  {
   "cell_type": "markdown",
   "metadata": {},
   "source": [
    "## Generating random numbers\n",
    "\n",
    "One common thing that we need to do is to generate random numbers.  This works similarly in R and Python.  For the purpose of reproducibility it's usually good practice to set the random seed to a specific value at the begnning of the code, so that the code will always provide the same results. "
   ]
  },
  {
   "cell_type": "code",
   "execution_count": 58,
   "metadata": {},
   "outputs": [
    {
     "data": {
      "text/plain": [
       "[1] 0.7977843 0.7535651 0.3912557 0.3415567 0.3612941\n",
       "[1] -0.8475485 -1.3016020 -0.9638145  0.2373156\n"
      ]
     },
     "metadata": {},
     "output_type": "display_data"
    }
   ],
   "source": [
    "%%R\n",
    "\n",
    "set.seed(123456)  # fix the random seed\n",
    "\n",
    "# generate 5 uniform random variates\n",
    "print(runif(5))\n",
    "\n",
    "# generate 4 standard normal variates\n",
    "print(rnorm(4))"
   ]
  },
  {
   "cell_type": "code",
   "execution_count": 60,
   "metadata": {},
   "outputs": [
    {
     "name": "stdout",
     "output_type": "stream",
     "text": [
      "[0.12696983 0.96671784 0.26047601 0.89723652 0.37674972]\n",
      "[-0.58986305 -1.98683112 -2.17314697  0.73630915]\n"
     ]
    }
   ],
   "source": [
    "numpy.random.seed(123456)  # fix the random seed\n",
    "\n",
    "# generate 5 uniform random variates\n",
    "print(numpy.random.rand(5))\n",
    "\n",
    "# generate 4 standard normal variates\n",
    "print(numpy.random.randn(4))"
   ]
  },
  {
   "cell_type": "markdown",
   "metadata": {},
   "source": [
    "## Working with multidimensional arrays\n",
    "\n",
    "We very often want to work with multidimensional data; the term *matrix* is often used to refer specifically to a 2-d array, though the array functions in both R and numpy can handle higher-dimension arrays as well. We will focus on 2-d arrays for now, though higher dimensional arrays become important when dealing with volumetric images.\n",
    "\n",
    "In R, one can use the ```array()``` function to generate a 2-d array.  There is also a function called ```matrix()```, which is just another way to generate the same thing."
   ]
  },
  {
   "cell_type": "code",
   "execution_count": 91,
   "metadata": {},
   "outputs": [
    {
     "data": {
      "text/plain": [
       "     [,1] [,2] [,3]\n",
       "[1,]    1    5    9\n",
       "[2,]    2    6   10\n",
       "[3,]    3    7   11\n",
       "[4,]    4    8   12\n",
       "[1] 4 3\n"
      ]
     },
     "metadata": {},
     "output_type": "display_data"
    }
   ],
   "source": [
    "%%R\n",
    "\n",
    "# create an array from two vectors\n",
    "vector1 = c(1, 2, 3, 4)\n",
    "vector2 = c(5, 6, 7, 8)\n",
    "vector3 = c(9, 10, 11, 12)\n",
    "a = array(c(vector1, vector2, vector3), dim = c(4, 3))\n",
    "print(a)\n",
    "dim(a)"
   ]
  },
  {
   "cell_type": "markdown",
   "metadata": {},
   "source": [
    "The situation for Numpy is a bit more confusing.  Numpy has separate object types for *arrays* and *matrices*, and they are not equivalent.  Because one can usually do anything with the array class that is possible with the matrix class, we will focus on the array class in this document. However, occasionally you might encounter a library that requires Numpy matrices, and it's important to realize that they are a not interchangeable as they are in R.\n",
    "\n",
    "Let's generate a 2-d array in Python:"
   ]
  },
  {
   "cell_type": "code",
   "execution_count": 92,
   "metadata": {},
   "outputs": [
    {
     "name": "stdout",
     "output_type": "stream",
     "text": [
      "[[ 1  2  3  4]\n",
      " [ 5  6  7  8]\n",
      " [ 9 10 11 12]]\n",
      "(3, 4)\n"
     ]
    }
   ],
   "source": [
    "# create an array from two vectors\n",
    "vector1 = [1, 2, 3, 4]\n",
    "vector2 = [5, 6, 7, 8]\n",
    "vector3 = [9, 10, 11, 12]\n",
    "a = numpy.array([vector1, vector2, vector3])\n",
    "print(a)\n",
    "\n",
    "print(a.shape)"
   ]
  },
  {
   "cell_type": "markdown",
   "metadata": {},
   "source": [
    "Numpy creates the array with the vectors in rows, whereas R created it with the vectors in columns.\n",
    "In order to match what was done in R, we need to transpose the array, using the ```.T``` operator.\n"
   ]
  },
  {
   "cell_type": "code",
   "execution_count": 93,
   "metadata": {},
   "outputs": [
    {
     "name": "stdout",
     "output_type": "stream",
     "text": [
      "[[ 1  5  9]\n",
      " [ 2  6 10]\n",
      " [ 3  7 11]\n",
      " [ 4  8 12]]\n",
      "(4, 3)\n"
     ]
    }
   ],
   "source": [
    "a = a.T\n",
    "print(a)\n",
    "print(a.shape)"
   ]
  },
  {
   "cell_type": "markdown",
   "metadata": {},
   "source": [
    "### Indexing arrays\n",
    "\n",
    "Indexing works slightly differently between R and Python.  We have already encountered one way in which they differ: R indexes starting at 1, whereas Python indexes starting at zero.  There are a few other differences, as we will see below."
   ]
  },
  {
   "cell_type": "code",
   "execution_count": 99,
   "metadata": {},
   "outputs": [
    {
     "data": {
      "text/plain": [
       "     [,1] [,2] [,3]\n",
       "[1,]    1    5    9\n",
       "[2,]    2    6   10\n",
       "[3,]    3    7   11\n",
       "     [,1] [,2]\n",
       "[1,]    1    5\n",
       "[2,]    2    6\n",
       "[3,]    3    7\n",
       "[4,]    4    8\n",
       "     [,1] [,2] [,3]\n",
       "[1,]    3    7   11\n",
       "[2,]    4    8   12\n",
       "     [,1] [,2] [,3] [,4]\n",
       "[1,]    1    2    3    4\n",
       "[2,]    5    6    7    8\n",
       "[3,]    9   10   11   12\n",
       "     [,1] [,2] [,3]\n",
       "[1,]    4    8   12\n",
       "[2,]    3    7   11\n",
       "[3,]    2    6   10\n",
       "[4,]    1    5    9\n"
      ]
     },
     "metadata": {},
     "output_type": "display_data"
    }
   ],
   "source": [
    "%%R \n",
    "\n",
    "# extract first 3 rows\n",
    "print(a[1:3 ,])\n",
    "\n",
    "# extract first two columns\n",
    "print(a[, 1:2])\n",
    "\n",
    "# extract last two rows\n",
    "print(a[3:4, ])\n",
    "\n",
    "# transpose the array\n",
    "print(t(a))\n",
    "\n",
    "# flip the array up-down\n",
    "print(a[4:1, ])"
   ]
  },
  {
   "cell_type": "markdown",
   "metadata": {},
   "source": [
    "Now we will do the same in Python. There are several differences to notice.  The first is that we can't leave the index for an axis blank like we can in R --- instead, if we want to use all elements along a particular dimension, we need to use the wild-card symbol, ```:```. A second difference is that we can use negative indices to move backward from the end.  Doing this in R would require computing the length of the array along the dimension of interest, and then subtracting off the number of desired steps. \n",
    "\n",
    "Indexing also works a bit differently in Python versus R (as discussed in detail [here](https://docs.scipy.org/doc/numpy/reference/arrays.indexing.html)).  If we put ```1:3``` as a sequence in R, the resulting values are 1, 2, and 3.  If we put the same in Python, we only get the numbers 1 and 2, because Python treats the second number as an exclusive limit rather than an inclusive limit.  This is useful in the context of Python's zero-based indexing, because if we want the first three elements (which have indices 0, 1, and 2), then we can use ```:3``` and we will get the correct answer.\n",
    "\n",
    "You can think about the syntax for slicing an array as follows. we specify up to three numbers as ```i:j:k``` which specify the starting index (i), the stopping index (j), and the step size (k).  The default value for i is 0, for j is the length of the dimension, and for k is 1.  \n"
   ]
  },
  {
   "cell_type": "code",
   "execution_count": 103,
   "metadata": {},
   "outputs": [
    {
     "name": "stdout",
     "output_type": "stream",
     "text": [
      "[[ 1  5  9]\n",
      " [ 2  6 10]\n",
      " [ 3  7 11]]\n",
      "[[1 5]\n",
      " [2 6]\n",
      " [3 7]\n",
      " [4 8]]\n",
      "[[ 3  7 11]\n",
      " [ 4  8 12]]\n",
      "[[ 1  2  3  4]\n",
      " [ 5  6  7  8]\n",
      " [ 9 10 11 12]]\n",
      "[[ 4  8 12]\n",
      " [ 3  7 11]\n",
      " [ 2  6 10]\n",
      " [ 1  5  9]]\n",
      "[[ 4  8 12]\n",
      " [ 3  7 11]\n",
      " [ 2  6 10]\n",
      " [ 1  5  9]]\n"
     ]
    }
   ],
   "source": [
    "# extract first 3 rows\n",
    "print(a[:3, :])\n",
    "\n",
    "# extract first two columns\n",
    "print(a[:, :2])\n",
    "\n",
    "# extract last two rows\n",
    "print(a[-2:, :])\n",
    "\n",
    "# transpose the array\n",
    "print(a.T)\n",
    "\n",
    "# flip the array up-down\n",
    "# setting k to -1 goes backwards from j to i\n",
    "print(a[::-1, :])\n",
    "\n",
    "# there is also a built-in numpy function to flip an array up-down:\n",
    "print(numpy.flipud(a))"
   ]
  },
  {
   "cell_type": "markdown",
   "metadata": {},
   "source": [
    "One handy feature of Numpy arrays is that they have a bunch of built-in functions that you can apply to them.  We can see all of those using the ```dir()``` function:"
   ]
  },
  {
   "cell_type": "code",
   "execution_count": 104,
   "metadata": {},
   "outputs": [
    {
     "data": {
      "text/plain": [
       "['T',\n",
       " '__abs__',\n",
       " '__add__',\n",
       " '__and__',\n",
       " '__array__',\n",
       " '__array_finalize__',\n",
       " '__array_function__',\n",
       " '__array_interface__',\n",
       " '__array_prepare__',\n",
       " '__array_priority__',\n",
       " '__array_struct__',\n",
       " '__array_ufunc__',\n",
       " '__array_wrap__',\n",
       " '__bool__',\n",
       " '__class__',\n",
       " '__complex__',\n",
       " '__contains__',\n",
       " '__copy__',\n",
       " '__deepcopy__',\n",
       " '__delattr__',\n",
       " '__delitem__',\n",
       " '__dir__',\n",
       " '__divmod__',\n",
       " '__doc__',\n",
       " '__eq__',\n",
       " '__float__',\n",
       " '__floordiv__',\n",
       " '__format__',\n",
       " '__ge__',\n",
       " '__getattribute__',\n",
       " '__getitem__',\n",
       " '__gt__',\n",
       " '__hash__',\n",
       " '__iadd__',\n",
       " '__iand__',\n",
       " '__ifloordiv__',\n",
       " '__ilshift__',\n",
       " '__imatmul__',\n",
       " '__imod__',\n",
       " '__imul__',\n",
       " '__index__',\n",
       " '__init__',\n",
       " '__init_subclass__',\n",
       " '__int__',\n",
       " '__invert__',\n",
       " '__ior__',\n",
       " '__ipow__',\n",
       " '__irshift__',\n",
       " '__isub__',\n",
       " '__iter__',\n",
       " '__itruediv__',\n",
       " '__ixor__',\n",
       " '__le__',\n",
       " '__len__',\n",
       " '__lshift__',\n",
       " '__lt__',\n",
       " '__matmul__',\n",
       " '__mod__',\n",
       " '__mul__',\n",
       " '__ne__',\n",
       " '__neg__',\n",
       " '__new__',\n",
       " '__or__',\n",
       " '__pos__',\n",
       " '__pow__',\n",
       " '__radd__',\n",
       " '__rand__',\n",
       " '__rdivmod__',\n",
       " '__reduce__',\n",
       " '__reduce_ex__',\n",
       " '__repr__',\n",
       " '__rfloordiv__',\n",
       " '__rlshift__',\n",
       " '__rmatmul__',\n",
       " '__rmod__',\n",
       " '__rmul__',\n",
       " '__ror__',\n",
       " '__rpow__',\n",
       " '__rrshift__',\n",
       " '__rshift__',\n",
       " '__rsub__',\n",
       " '__rtruediv__',\n",
       " '__rxor__',\n",
       " '__setattr__',\n",
       " '__setitem__',\n",
       " '__setstate__',\n",
       " '__sizeof__',\n",
       " '__str__',\n",
       " '__sub__',\n",
       " '__subclasshook__',\n",
       " '__truediv__',\n",
       " '__xor__',\n",
       " 'all',\n",
       " 'any',\n",
       " 'argmax',\n",
       " 'argmin',\n",
       " 'argpartition',\n",
       " 'argsort',\n",
       " 'astype',\n",
       " 'base',\n",
       " 'byteswap',\n",
       " 'choose',\n",
       " 'clip',\n",
       " 'compress',\n",
       " 'conj',\n",
       " 'conjugate',\n",
       " 'copy',\n",
       " 'ctypes',\n",
       " 'cumprod',\n",
       " 'cumsum',\n",
       " 'data',\n",
       " 'diagonal',\n",
       " 'dot',\n",
       " 'dtype',\n",
       " 'dump',\n",
       " 'dumps',\n",
       " 'fill',\n",
       " 'flags',\n",
       " 'flat',\n",
       " 'flatten',\n",
       " 'getfield',\n",
       " 'imag',\n",
       " 'item',\n",
       " 'itemset',\n",
       " 'itemsize',\n",
       " 'max',\n",
       " 'mean',\n",
       " 'min',\n",
       " 'nbytes',\n",
       " 'ndim',\n",
       " 'newbyteorder',\n",
       " 'nonzero',\n",
       " 'partition',\n",
       " 'prod',\n",
       " 'ptp',\n",
       " 'put',\n",
       " 'ravel',\n",
       " 'real',\n",
       " 'repeat',\n",
       " 'reshape',\n",
       " 'resize',\n",
       " 'round',\n",
       " 'searchsorted',\n",
       " 'setfield',\n",
       " 'setflags',\n",
       " 'shape',\n",
       " 'size',\n",
       " 'sort',\n",
       " 'squeeze',\n",
       " 'std',\n",
       " 'strides',\n",
       " 'sum',\n",
       " 'swapaxes',\n",
       " 'take',\n",
       " 'tobytes',\n",
       " 'tofile',\n",
       " 'tolist',\n",
       " 'tostring',\n",
       " 'trace',\n",
       " 'transpose',\n",
       " 'var',\n",
       " 'view']"
      ]
     },
     "execution_count": 104,
     "metadata": {},
     "output_type": "execute_result"
    }
   ],
   "source": [
    "dir(a)"
   ]
  },
  {
   "cell_type": "markdown",
   "metadata": {},
   "source": [
    "Here are just a few examples:"
   ]
  },
  {
   "cell_type": "code",
   "execution_count": 108,
   "metadata": {},
   "outputs": [
    {
     "name": "stdout",
     "output_type": "stream",
     "text": [
      "6.5\n",
      "[ 2.5  6.5 10.5]\n",
      "78\n"
     ]
    }
   ],
   "source": [
    "# take the mean of the entire array\n",
    "print(a.mean())\n",
    "\n",
    "# take the mean along the first axis\n",
    "print(a.mean(axis=0))\n",
    "\n",
    "# take the sum of the entire array\n",
    "print(a.sum())"
   ]
  },
  {
   "cell_type": "code",
   "execution_count": null,
   "metadata": {},
   "outputs": [],
   "source": []
  },
  {
   "cell_type": "code",
   "execution_count": null,
   "metadata": {},
   "outputs": [],
   "source": []
  }
 ],
 "metadata": {
  "kernelspec": {
   "display_name": "Python 3",
   "language": "python",
   "name": "python3"
  },
  "language_info": {
   "codemirror_mode": {
    "name": "ipython",
    "version": 3
   },
   "file_extension": ".py",
   "mimetype": "text/x-python",
   "name": "python",
   "nbconvert_exporter": "python",
   "pygments_lexer": "ipython3",
   "version": "3.6.8"
  }
 },
 "nbformat": 4,
 "nbformat_minor": 2
}
