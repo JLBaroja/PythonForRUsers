{
 "cells": [
  {
   "cell_type": "markdown",
   "metadata": {},
   "source": [
    "# Python for R users\n",
    "# Part 2: Control structures\n",
    "\n",
    "In this notebook we will explore how R and Python differ in the syntax of control structures like loops or if/then statements. \n",
    "\n",
    "First we need to tell Jupyter to let us use R within this Python notebook."
   ]
  },
  {
   "cell_type": "code",
   "execution_count": 2,
   "metadata": {},
   "outputs": [],
   "source": [
    "%load_ext rpy2.ipython\n",
    "\n",
    "from pprint import pprint"
   ]
  },
  {
   "cell_type": "markdown",
   "metadata": {},
   "source": [
    "## Loops\n",
    "\n",
    "We generally want to avoid loops whenever possible (as we will see later when we are talking about numerical analysis), but sometimes we can't.  Loops in Python are structurally very similar to those in R, but the syntax differs quite a bit.  Let's say that we want to loop over integers from 1 to 3 and print them out.  In R we would do it as follows:"
   ]
  },
  {
   "cell_type": "code",
   "execution_count": 3,
   "metadata": {},
   "outputs": [
    {
     "name": "stdout",
     "output_type": "stream",
     "text": [
      "[1] 1\n",
      "[1] 2\n",
      "[1] 3\n"
     ]
    }
   ],
   "source": [
    "%%R\n",
    "\n",
    "for (j in 1:3){\n",
    "    print(j)\n",
    "}"
   ]
  },
  {
   "cell_type": "markdown",
   "metadata": {},
   "source": [
    "Notice that in R, the contents of the loop are demarcated by brackets.\n",
    "\n",
    "The equivalent loop in Python would look like this:"
   ]
  },
  {
   "cell_type": "code",
   "execution_count": 4,
   "metadata": {},
   "outputs": [
    {
     "name": "stdout",
     "output_type": "stream",
     "text": [
      "1\n",
      "2\n",
      "3\n"
     ]
    }
   ],
   "source": [
    "for j in range(1,4):\n",
    "    print(j)"
   ]
  },
  {
   "cell_type": "markdown",
   "metadata": {},
   "source": [
    "There is one thing here that is new for us, and is another fundamental difference between Python and R.  The contents of the loop in Python are denoted by their *indentation*!  The fact that white space makes a difference in Python syntax is probably one of the most controversial aspects of Python coding.  If the spacing doesn't match exactly, then the code will fail. Try running the next cell after removing the comment symbol (#) from the third line:"
   ]
  },
  {
   "cell_type": "code",
   "execution_count": 6,
   "metadata": {},
   "outputs": [
    {
     "ename": "IndentationError",
     "evalue": "unexpected indent (<ipython-input-6-74c8ddc91f8e>, line 3)",
     "output_type": "error",
     "traceback": [
      "\u001b[0;36m  File \u001b[0;32m\"<ipython-input-6-74c8ddc91f8e>\"\u001b[0;36m, line \u001b[0;32m3\u001b[0m\n\u001b[0;31m    print(j+1)\u001b[0m\n\u001b[0m    ^\u001b[0m\n\u001b[0;31mIndentationError\u001b[0m\u001b[0;31m:\u001b[0m unexpected indent\n"
     ]
    }
   ],
   "source": [
    "for j in range(1,4):\n",
    "    print(j)\n",
    "#     print(j+1)"
   ]
  },
  {
   "cell_type": "markdown",
   "metadata": {},
   "source": [
    "You should see an error message telling you that there is an unexpected indentation.  Python expects all of lines with a loop to have exactly the same indentation. This can get a bit tricky if you mix code that uses tabs for indentation and code that uses spaces. In general, indentation by 4 spaces is preferred.\n",
    "\n"
   ]
  },
  {
   "cell_type": "markdown",
   "metadata": {},
   "source": [
    "There is another new thing that we see here:  the ```range()``` function.  This function generates a series of numbers within a particular range, similar to the ```seq()``` function in R except that it starts at zero and steps by 1 at a time until it *almost* reaches the specified number.  Here is a simple example:"
   ]
  },
  {
   "cell_type": "code",
   "execution_count": 7,
   "metadata": {},
   "outputs": [
    {
     "name": "stdout",
     "output_type": "stream",
     "text": [
      "0\n",
      "1\n",
      "2\n",
      "3\n"
     ]
    }
   ],
   "source": [
    "for j in range(4):\n",
    "    print(j)"
   ]
  },
  {
   "cell_type": "markdown",
   "metadata": {},
   "source": [
    "Notice that the series is as long as the specified number (i.e. 4 digits), but it stops before it gets to the limit. Just like ```seq()```, you can also specify a step size for the sequence:"
   ]
  },
  {
   "cell_type": "code",
   "execution_count": 9,
   "metadata": {},
   "outputs": [
    {
     "name": "stdout",
     "output_type": "stream",
     "text": [
      "0\n",
      "2\n",
      "4\n",
      "6\n"
     ]
    }
   ],
   "source": [
    "for j in range(0, 8, 2):\n",
    "    print(j)"
   ]
  },
  {
   "cell_type": "markdown",
   "metadata": {},
   "source": [
    "One limitation is that range() only works for integer step sizes.  Later we will encounter a function within the numpy package that can give us more flexible step sizes.  But if we are simply looping through for a specific number of times, we would generally use ```range()```.\n",
    "\n",
    "The ```range()``` function also exhibits a behavior that you will not have experienced in R.  Let's say you want to create a new variable that contains a sequence of integers from 1 to 5.  In R you could do this using the ```seq()``` command:"
   ]
  },
  {
   "cell_type": "code",
   "execution_count": 10,
   "metadata": {},
   "outputs": [
    {
     "name": "stdout",
     "output_type": "stream",
     "text": [
      "[1] 1 2 3 4 5\n"
     ]
    }
   ],
   "source": [
    "%%R\n",
    "\n",
    "my_var <- seq(1,5)\n",
    "print(my_var)"
   ]
  },
  {
   "cell_type": "markdown",
   "metadata": {},
   "source": [
    "However, if we try to do this using the ```range()``` command, the result is not what we expect:"
   ]
  },
  {
   "cell_type": "code",
   "execution_count": 11,
   "metadata": {},
   "outputs": [
    {
     "name": "stdout",
     "output_type": "stream",
     "text": [
      "range(0, 5)\n"
     ]
    }
   ],
   "source": [
    "my_var = range(5)\n",
    "print(my_var)"
   ]
  },
  {
   "cell_type": "markdown",
   "metadata": {},
   "source": [
    "You probably expected this command to output a set of values, but instead it prints out what looks like a function.  That's because the ```range()``` function is a special type of Python function known as a *generator*, which is meant to generate a sequence.  You don't need to know how generators work under the hood (though if you do, you can read more [here](https://wiki.python.org/moin/Generators)), but you should be aware that you can't simply use them to define a new variable --- they have to be part of a loop.  "
   ]
  },
  {
   "cell_type": "markdown",
   "metadata": {},
   "source": [
    "## List comprehensions\n",
    "\n",
    "One way to easily obtain a new variable from a generator is to use a special Python construction called a *list comprehension*.  Going back to our previous problem of generating a list that ranges from 1 to 5, we could create a for loop to do this:"
   ]
  },
  {
   "cell_type": "code",
   "execution_count": 14,
   "metadata": {},
   "outputs": [
    {
     "name": "stdout",
     "output_type": "stream",
     "text": [
      "[1, 2, 3, 4, 5]\n"
     ]
    }
   ],
   "source": [
    "my_var = []  # create an empty list\n",
    "for j in range(1, 6):\n",
    "    my_var.append(j)  # append the value to the list\n",
    "\n",
    "print(my_var)"
   ]
  },
  {
   "cell_type": "markdown",
   "metadata": {},
   "source": [
    "However, this is a lot of code to generate such a simple variable.  A list comprehension allows us to embed this entire loop within a single command:"
   ]
  },
  {
   "cell_type": "code",
   "execution_count": 15,
   "metadata": {},
   "outputs": [
    {
     "name": "stdout",
     "output_type": "stream",
     "text": [
      "[1, 2, 3, 4, 5]\n"
     ]
    }
   ],
   "source": [
    "my_var = [j for j in range(1, 6)]\n",
    "\n",
    "print(my_var)"
   ]
  },
  {
   "cell_type": "markdown",
   "metadata": {},
   "source": [
    "One useful thing that this allows us to do is to transform the numbers being generated by our generator (in this case ```range()```).\n",
    "\n",
    "Let's say that we wanted to create a series of powers of 2, from 2^0 to 2^5. We could do this easily using a list comprehension, by simply raising the initial value ```i``` to the power of 2:"
   ]
  },
  {
   "cell_type": "code",
   "execution_count": 16,
   "metadata": {},
   "outputs": [
    {
     "name": "stdout",
     "output_type": "stream",
     "text": [
      "[1, 2, 4, 8, 16, 32]\n"
     ]
    }
   ],
   "source": [
    "power_series = [2**j for j in range(0, 6)]\n",
    "print(power_series)"
   ]
  },
  {
   "cell_type": "markdown",
   "metadata": {},
   "source": [
    "## Nested Loops\n",
    "\n",
    "We can also easily nest loops within one another, using additional indentation for each level of the loop.  For example, let's say we want to loop through for integers from 1 to 9 and create a dictionary that contains a list of that value when raised to powers from zero to five."
   ]
  },
  {
   "cell_type": "code",
   "execution_count": 17,
   "metadata": {},
   "outputs": [
    {
     "name": "stdout",
     "output_type": "stream",
     "text": [
      "{1: [1, 1, 1, 1, 1, 1],\n",
      " 2: [1, 2, 4, 8, 16, 32],\n",
      " 3: [1, 3, 9, 27, 81, 243],\n",
      " 4: [1, 4, 16, 64, 256, 1024],\n",
      " 5: [1, 5, 25, 125, 625, 3125],\n",
      " 6: [1, 6, 36, 216, 1296, 7776],\n",
      " 7: [1, 7, 49, 343, 2401, 16807],\n",
      " 8: [1, 8, 64, 512, 4096, 32768],\n",
      " 9: [1, 9, 81, 729, 6561, 59049]}\n"
     ]
    }
   ],
   "source": [
    "power_dict = {}  # create empty dictionary to store our results\n",
    "\n",
    "for j in range(1, 10):  ## loop through integers 1-9\n",
    "    power_dict[j] = []  # create an empty list to store the results for this integer\n",
    "    for k in range(0, 6):\n",
    "        power_dict[j].append(j**k)\n",
    "        \n",
    "pprint(power_dict)  ## pretty print the dict"
   ]
  },
  {
   "cell_type": "markdown",
   "metadata": {},
   "source": [
    "## While loops\n",
    "\n",
    "While loops in Python are very similar to those in R, except for the surface syntax:"
   ]
  },
  {
   "cell_type": "code",
   "execution_count": 19,
   "metadata": {},
   "outputs": [
    {
     "name": "stdout",
     "output_type": "stream",
     "text": [
      "[1] 1\n",
      "[1] 2\n",
      "[1] 3\n",
      "[1] 4\n",
      "[1] 5\n"
     ]
    }
   ],
   "source": [
    "%%R\n",
    "\n",
    "j <- 1\n",
    "while (j < 6){\n",
    "    print(j)\n",
    "    j <- j + 1\n",
    "}"
   ]
  },
  {
   "cell_type": "code",
   "execution_count": 20,
   "metadata": {},
   "outputs": [
    {
     "name": "stdout",
     "output_type": "stream",
     "text": [
      "1\n",
      "2\n",
      "3\n",
      "4\n",
      "5\n"
     ]
    }
   ],
   "source": [
    "j = 1\n",
    "while j < 6:\n",
    "    print(j)\n",
    "    j += 1\n",
    "    "
   ]
  },
  {
   "cell_type": "markdown",
   "metadata": {},
   "source": [
    "Note that we used a special operator, ```+=``` which is shorthand for \"add the value on the right side to the existing variable on the left side\"."
   ]
  },
  {
   "cell_type": "markdown",
   "metadata": {},
   "source": [
    "## If/then statement\n",
    "\n",
    "If/then statements are also fairly similar between R and Python.  Let's say we want to loop through all numbers from 1 to 10 and print whether they are odd or even.  Here is how we would do that in R:"
   ]
  },
  {
   "cell_type": "code",
   "execution_count": 21,
   "metadata": {},
   "outputs": [
    {
     "name": "stdout",
     "output_type": "stream",
     "text": [
      "[1] \"1: odd\"\n",
      "[1] \"2: even\"\n",
      "[1] \"3: odd\"\n",
      "[1] \"4: even\"\n",
      "[1] \"5: odd\"\n",
      "[1] \"6: even\"\n",
      "[1] \"7: odd\"\n",
      "[1] \"8: even\"\n",
      "[1] \"9: odd\"\n",
      "[1] \"10: even\"\n"
     ]
    }
   ],
   "source": [
    "%%R\n",
    "\n",
    "for (j in 1:10){\n",
    "    # use the modulus operator to see if the remainder from 2 is zero\n",
    "    if (!(j %% 2)) {\n",
    "        print(sprintf('%d: even', j))\n",
    "    } else {\n",
    "        print(sprintf('%d: odd', j))\n",
    "        \n",
    "    }\n",
    "}"
   ]
  },
  {
   "cell_type": "markdown",
   "metadata": {},
   "source": [
    "The analogous code in Python looks fairly similar:"
   ]
  },
  {
   "cell_type": "code",
   "execution_count": 22,
   "metadata": {},
   "outputs": [
    {
     "name": "stdout",
     "output_type": "stream",
     "text": [
      "1 odd\n",
      "2 even\n",
      "3 odd\n",
      "4 even\n",
      "5 odd\n",
      "6 even\n",
      "7 odd\n",
      "8 even\n",
      "9 odd\n",
      "10 even\n"
     ]
    }
   ],
   "source": [
    "for j in range(1, 11):\n",
    "    if not j % 2:\n",
    "        print(j, 'even', )\n",
    "    else:\n",
    "        print(j, 'odd')"
   ]
  },
  {
   "cell_type": "markdown",
   "metadata": {},
   "source": [
    "Note a few small syntactic differences. Most importantly, again here the structure of the statement in Python relies upon indentation.  Second, instead of using the ```!``` operator to signify negation in R, in Python we can simply use ```not```.  Also note that the modulus operator is ```%``` in Python versus ```%%``` in R."
   ]
  }
 ],
 "metadata": {
  "kernelspec": {
   "display_name": "Python 3",
   "language": "python",
   "name": "python3"
  },
  "language_info": {
   "codemirror_mode": {
    "name": "ipython",
    "version": 3
   },
   "file_extension": ".py",
   "mimetype": "text/x-python",
   "name": "python",
   "nbconvert_exporter": "python",
   "pygments_lexer": "ipython3",
   "version": "3.6.7"
  }
 },
 "nbformat": 4,
 "nbformat_minor": 4
}
