{
 "cells": [
  {
   "cell_type": "markdown",
   "metadata": {},
   "source": [
    "# Python for R Users\n",
    "# Part 1: Variables\n",
    "\n",
    "In this notebook we will explore how variables are treated in Python in comparison to R.  We will also discuss how to use functions defined in external libraries.\n",
    "\n",
    "*NOTE*:  We are going to assume throughout this tutorial that you are using Python 3.  \n",
    "\n",
    "Resources:\n",
    "- http://www.data-analysis-in-python.org/python_for_r.html\n"
   ]
  },
  {
   "cell_type": "markdown",
   "metadata": {},
   "source": [
    "## Using Jupyter\n",
    "\n",
    "Jupyter is a system for interactive computing, that is similar in spirit to R Notebooks that you may have used with RStudio.\n",
    "\n",
    "In a Jupyter notebook, the code and text (written in Markdown, just like an RMarkdown file) are placed in separate *cells*.  \n",
    "A handy feature of Jupyter is that we can use both R and Python within the same notebook. Since this is a native Python notebook, it will assume that any code is written in Python --- if we want to use R then we need to tell it explictly to use R.\n",
    "\n",
    "The first thing we need to do is to tell Jupyter to load the functions it needs to run R code alongside Python.  Jupyter has a number of special commands, which start with a percent sign."
   ]
  },
  {
   "cell_type": "code",
   "execution_count": 2,
   "metadata": {},
   "outputs": [],
   "source": [
    "%load_ext rpy2.ipython"
   ]
  },
  {
   "cell_type": "markdown",
   "metadata": {},
   "source": [
    "First, let's print \"Hello, world!\" using Python.  To execute the code in the following cell, you can hit Shift-Enter."
   ]
  },
  {
   "cell_type": "code",
   "execution_count": 6,
   "metadata": {},
   "outputs": [
    {
     "name": "stdout",
     "output_type": "stream",
     "text": [
      "Hello, world\n"
     ]
    }
   ],
   "source": [
    "print('Hello, world')"
   ]
  },
  {
   "cell_type": "markdown",
   "metadata": {},
   "source": [
    "You should see the message printed to the screen.  Now let's do the same with R. In order to call an R function, we need to use the magic command %%R:"
   ]
  },
  {
   "cell_type": "code",
   "execution_count": 8,
   "metadata": {},
   "outputs": [
    {
     "data": {
      "text/plain": [
       "Hello, world"
      ]
     },
     "metadata": {},
     "output_type": "display_data"
    }
   ],
   "source": [
    "%%R\n",
    "\n",
    "cat('Hello, world')"
   ]
  },
  {
   "cell_type": "markdown",
   "metadata": {},
   "source": [
    "## Variables and variable assignment\n",
    "\n",
    "R allows two different ways to assign values to variabes: ```<-``` and ```=```"
   ]
  },
  {
   "cell_type": "code",
   "execution_count": 11,
   "metadata": {},
   "outputs": [
    {
     "data": {
      "text/plain": [
       "[1] 1\n",
       "[1] 2\n"
      ]
     },
     "metadata": {},
     "output_type": "display_data"
    }
   ],
   "source": [
    "%%R\n",
    "\n",
    "a <- 1\n",
    "print(a)\n",
    "\n",
    "b = 2\n",
    "print(b)"
   ]
  },
  {
   "cell_type": "markdown",
   "metadata": {},
   "source": [
    "In Python, there is only one way to assign a value to a variable: **=**"
   ]
  },
  {
   "cell_type": "code",
   "execution_count": 12,
   "metadata": {},
   "outputs": [
    {
     "name": "stdout",
     "output_type": "stream",
     "text": [
      "1\n"
     ]
    }
   ],
   "source": [
    "a = 1\n",
    "print(a)"
   ]
  },
  {
   "cell_type": "markdown",
   "metadata": {},
   "source": [
    "There is also an important difference under the hood in how Python treats variables compared to R.  First let's see it in action, and then explain it.  "
   ]
  },
  {
   "cell_type": "code",
   "execution_count": 30,
   "metadata": {},
   "outputs": [
    {
     "data": {
      "text/plain": [
       "[1] 1 2 3\n"
      ]
     },
     "metadata": {},
     "output_type": "display_data"
    }
   ],
   "source": [
    "%%R\n",
    "\n",
    "a <- c(1, 2, 3)  # create a variable\n",
    "\n",
    "b <- a  # assign it to a new variable\n",
    "\n",
    "b[4] = 4  # add an entry to the new variable\n",
    "\n",
    "print(a)"
   ]
  },
  {
   "cell_type": "code",
   "execution_count": 31,
   "metadata": {},
   "outputs": [
    {
     "name": "stdout",
     "output_type": "stream",
     "text": [
      "[1, 2, 3, 4]\n"
     ]
    }
   ],
   "source": [
    "a = [1, 2, 3]   # create a variable\n",
    "b = a  # assign it to a new variable\n",
    "b.append(4) # add an entry to the new variable\n",
    "\n",
    "print(a)"
   ]
  },
  {
   "cell_type": "markdown",
   "metadata": {},
   "source": [
    "What is happening here is that when you use ```b <- a``` in R, it automatically makes a new copy of the variable, so that any changes in the new variable don't affect the original one.  \n",
    "\n",
    "R's behavior is different from most general-purpose programming languages, in which a variable is treated as a pointer to a place in memory.  Thus, when we say ```b = a``` in Python, these two variables become pointers to the same place in memory. Thus, anything that we do to one will affect the other as well.  There are certain types of variables in Python where this doesn't happen, which are called *immutable* variables --- these include character strings, single numbers, and a type of variable called a *tuple* that you will learn about later.\n",
    "\n",
    "If we want Python to create a copy of a variable (so that changes to the new variable will not affect changes to the old one), we need to use the ```copy()``` operator:"
   ]
  },
  {
   "cell_type": "code",
   "execution_count": 33,
   "metadata": {},
   "outputs": [
    {
     "name": "stdout",
     "output_type": "stream",
     "text": [
      "a: [1, 2, 3]\n",
      "b: [1, 2, 3, 4]\n"
     ]
    }
   ],
   "source": [
    "a = [1, 2, 3]\n",
    "b = a.copy()\n",
    "b.append(4)\n",
    "print('a:', a)\n",
    "print('b:', b)"
   ]
  },
  {
   "cell_type": "markdown",
   "metadata": {},
   "source": [
    "The operator notation may be a bit confusing - what's with the dot?  It turns out that every variable in Python has various functions or other variables associated with it, and those are accessible using the dot.  This means that unlike R, the dot is special, and you can't create regular variable names with a dot in them.  We can see all of the functions and variables associated with a particular object using the ```dir()``` command."
   ]
  },
  {
   "cell_type": "code",
   "execution_count": 36,
   "metadata": {},
   "outputs": [
    {
     "data": {
      "text/plain": [
       "['__add__',\n",
       " '__class__',\n",
       " '__contains__',\n",
       " '__delattr__',\n",
       " '__delitem__',\n",
       " '__dir__',\n",
       " '__doc__',\n",
       " '__eq__',\n",
       " '__format__',\n",
       " '__ge__',\n",
       " '__getattribute__',\n",
       " '__getitem__',\n",
       " '__gt__',\n",
       " '__hash__',\n",
       " '__iadd__',\n",
       " '__imul__',\n",
       " '__init__',\n",
       " '__init_subclass__',\n",
       " '__iter__',\n",
       " '__le__',\n",
       " '__len__',\n",
       " '__lt__',\n",
       " '__mul__',\n",
       " '__ne__',\n",
       " '__new__',\n",
       " '__reduce__',\n",
       " '__reduce_ex__',\n",
       " '__repr__',\n",
       " '__reversed__',\n",
       " '__rmul__',\n",
       " '__setattr__',\n",
       " '__setitem__',\n",
       " '__sizeof__',\n",
       " '__str__',\n",
       " '__subclasshook__',\n",
       " 'append',\n",
       " 'clear',\n",
       " 'copy',\n",
       " 'count',\n",
       " 'extend',\n",
       " 'index',\n",
       " 'insert',\n",
       " 'pop',\n",
       " 'remove',\n",
       " 'reverse',\n",
       " 'sort']"
      ]
     },
     "execution_count": 36,
     "metadata": {},
     "output_type": "execute_result"
    }
   ],
   "source": [
    "dir(a)"
   ]
  },
  {
   "cell_type": "markdown",
   "metadata": {},
   "source": [
    "You can see that this variable, which is a type of variable called a *list* in Python, has a bunch of different operators associated with it.  If you want to know what one of them does, you can place a question mark in front of it to get its help text:"
   ]
  },
  {
   "cell_type": "code",
   "execution_count": 38,
   "metadata": {},
   "outputs": [
    {
     "data": {
      "text/plain": [
       "\u001b[0;31mDocstring:\u001b[0m L.count(value) -> integer -- return number of occurrences of value\n",
       "\u001b[0;31mType:\u001b[0m      builtin_function_or_method\n"
      ]
     },
     "metadata": {},
     "output_type": "display_data"
    }
   ],
   "source": [
    "?a.count"
   ]
  },
  {
   "cell_type": "markdown",
   "metadata": {},
   "source": [
    "This tells us that ```a.count()``` should output the number of occurrences of a particular value, which we have to enter as an argument to the function. Let's see if it works - how many times does the number 1 occur in the list:\n"
   ]
  },
  {
   "cell_type": "code",
   "execution_count": 43,
   "metadata": {},
   "outputs": [
    {
     "name": "stdout",
     "output_type": "stream",
     "text": [
      "1\n"
     ]
    }
   ],
   "source": [
    "print(a.count(1))"
   ]
  },
  {
   "cell_type": "markdown",
   "metadata": {},
   "source": [
    "## Types of variables\n",
    "\n",
    "From R you will be familiar with a number of different types of variables, such as *integer*, *double*, and *character*, as well as more complex types of variables such as *vectors* or *lists*.  Python has its own set of variable types, some of which overlap with R's but others of which are very different."
   ]
  },
  {
   "cell_type": "code",
   "execution_count": 46,
   "metadata": {},
   "outputs": [
    {
     "data": {
      "text/plain": [
       "float"
      ]
     },
     "execution_count": 46,
     "metadata": {},
     "output_type": "execute_result"
    }
   ],
   "source": [
    "type(1.)"
   ]
  },
  {
   "cell_type": "code",
   "execution_count": null,
   "metadata": {},
   "outputs": [],
   "source": []
  },
  {
   "cell_type": "markdown",
   "metadata": {},
   "source": [
    "### Lists in Python\n",
    "\n",
    "The concept of a *list* in Python is different from the concept of a *list* in R.  In Python, a list is more like a vector that you would generate using the ```c()``` function in R.  Let's see this in action."
   ]
  },
  {
   "cell_type": "code",
   "execution_count": 48,
   "metadata": {},
   "outputs": [
    {
     "name": "stdout",
     "output_type": "stream",
     "text": [
      "[1, 2, 3, 4]\n"
     ]
    }
   ],
   "source": [
    "my_list = [1, 2, 3, 4]\n",
    "print(my_list)"
   ]
  },
  {
   "cell_type": "code",
   "execution_count": 51,
   "metadata": {},
   "outputs": [
    {
     "data": {
      "text/plain": [
       "[1] 1 2 3 4\n"
      ]
     },
     "metadata": {},
     "output_type": "display_data"
    }
   ],
   "source": [
    "%%R\n",
    "\n",
    "my_vector <- c(1, 2, 3, 4)\n",
    "print(my_vector)"
   ]
  },
  {
   "cell_type": "markdown",
   "metadata": {},
   "source": [
    "Here we run into what is perhaps the most annoying difference between R and Python.  In R, we would access the vector members using their position numbers, starting with 1:"
   ]
  },
  {
   "cell_type": "code",
   "execution_count": 52,
   "metadata": {},
   "outputs": [
    {
     "data": {
      "text/plain": [
       "[1] 1\n"
      ]
     },
     "metadata": {},
     "output_type": "display_data"
    }
   ],
   "source": [
    "%%R\n",
    "\n",
    "print(my_vector[1])"
   ]
  },
  {
   "cell_type": "markdown",
   "metadata": {},
   "source": [
    "However, in Python we index the entries starting with zero:"
   ]
  },
  {
   "cell_type": "code",
   "execution_count": 53,
   "metadata": {},
   "outputs": [
    {
     "name": "stdout",
     "output_type": "stream",
     "text": [
      "1\n"
     ]
    }
   ],
   "source": [
    "print(my_list[0])"
   ]
  },
  {
   "cell_type": "markdown",
   "metadata": {},
   "source": [
    "This might seem weird, but it is actually the way that most general-purpose programming languages perform indexing, and there are good theorietical reasons for it.  For example, see discussion here: https://developeronline.blogspot.com/2008/04/why-array-index-should-start-from-0.html\n",
    "\n",
    "Another difference between Python and R has to do with their treatment of vectors with different types of objects. R doesn't allow this, and if you try to create one it will convert the elements to a single type:"
   ]
  },
  {
   "cell_type": "code",
   "execution_count": 57,
   "metadata": {},
   "outputs": [
    {
     "data": {
      "text/plain": [
       "[1] \"1\" \"b\"\n"
      ]
     },
     "metadata": {},
     "output_type": "display_data"
    }
   ],
   "source": [
    "%%R\n",
    "\n",
    "foo <- c(1, 'b')\n",
    "print(foo)\n"
   ]
  },
  {
   "cell_type": "markdown",
   "metadata": {},
   "source": [
    "In this case, R converts the elements to a type that can accomomodate all of them, which in this case is a character string.  Python, on the other hand, has no problem with lists containing different types of objects:"
   ]
  },
  {
   "cell_type": "code",
   "execution_count": 58,
   "metadata": {},
   "outputs": [
    {
     "name": "stdout",
     "output_type": "stream",
     "text": [
      "[1, 'b']\n"
     ]
    }
   ],
   "source": [
    "foo = [1, 'b']\n",
    "print(foo)"
   ]
  },
  {
   "cell_type": "markdown",
   "metadata": {},
   "source": [
    "We will have more to say about indexing when we come to the discussion of numerical analysis in a later notebook."
   ]
  },
  {
   "cell_type": "markdown",
   "metadata": {},
   "source": [
    "### Dictionaries in Python\n",
    "\n",
    "In R there is a type of object known as a *list*, can serve as a container for different types of variables.  In Python, the analogous object is known as a *dictionary*.\n",
    "\n",
    "Let's look at this in R first. We can use the str() function in R to give us a nice printout of the list."
   ]
  },
  {
   "cell_type": "code",
   "execution_count": 20,
   "metadata": {},
   "outputs": [
    {
     "data": {
      "text/plain": [
       "List of 3\n",
       " $ info: chr \"my list\"\n",
       " $ n   : num 3\n",
       " $ l   : chr [1:4] \"1\" \"2\" \"c\" \"d\"\n"
      ]
     },
     "metadata": {},
     "output_type": "display_data"
    }
   ],
   "source": [
    "%%R\n",
    "\n",
    "my_list <- list(info = 'my list', n = 3, l = c(1, 2, 'c', 'd'))\n",
    "str(my_list)"
   ]
  },
  {
   "cell_type": "markdown",
   "metadata": {},
   "source": [
    "To access the individual items, we would use the dollar sign notation:"
   ]
  },
  {
   "cell_type": "code",
   "execution_count": 19,
   "metadata": {},
   "outputs": [
    {
     "data": {
      "text/plain": [
       "[1] \"my list\"\n",
       "[1] \"c\"\n"
      ]
     },
     "metadata": {},
     "output_type": "display_data"
    }
   ],
   "source": [
    "%%R\n",
    "\n",
    "print(my_list$info)\n",
    "print(my_list$l[3])\n"
   ]
  },
  {
   "cell_type": "markdown",
   "metadata": {},
   "source": [
    "In Python, we can do the analogous job by creating a dictionary, either using the ```dict()``` function, or more often using end brackets.  The brackets contain a set of pairs separated by a colon, where the first element is the name of the field and the second element is the value that it takes."
   ]
  },
  {
   "cell_type": "code",
   "execution_count": 24,
   "metadata": {},
   "outputs": [
    {
     "name": "stdout",
     "output_type": "stream",
     "text": [
      "{'info': 'my list', 'n': 3, 'l': [1, 2, 'c', 'd']}\n"
     ]
    }
   ],
   "source": [
    "my_dict = {'info': 'my list',\n",
    "           'n':  3,\n",
    "           'l': [1, 2, 'c', 'd']}\n",
    "print(my_dict)"
   ]
  },
  {
   "cell_type": "markdown",
   "metadata": {},
   "source": [
    "To access the elements, we use the names of each field as an index"
   ]
  },
  {
   "cell_type": "code",
   "execution_count": 25,
   "metadata": {},
   "outputs": [
    {
     "name": "stdout",
     "output_type": "stream",
     "text": [
      "my list\n",
      "c\n"
     ]
    }
   ],
   "source": [
    "print(my_dict['info'])\n",
    "print(my_dict['l'][2])"
   ]
  },
  {
   "cell_type": "markdown",
   "metadata": {},
   "source": [
    "## Importing library functions in Python and R\n",
    "\n",
    "So far we have gotten by using only functions that are built into the base R and Python environments. However, we often want to use functions that are contained in *libraries*. For example, in R we might want to load the *knitr* library in order to print out our structure as a table.  We would do this using the ```library()``` function:"
   ]
  },
  {
   "cell_type": "code",
   "execution_count": 23,
   "metadata": {},
   "outputs": [
    {
     "data": {
      "text/plain": [
       "\n",
       "\n",
       "|x       |\n",
       "|:-------|\n",
       "|my list |\n",
       "\n",
       "|  x|\n",
       "|--:|\n",
       "|  3|\n",
       "\n",
       "|x  |\n",
       "|:--|\n",
       "|1  |\n",
       "|2  |\n",
       "|c  |\n",
       "|d  |\n"
      ]
     },
     "metadata": {},
     "output_type": "display_data"
    }
   ],
   "source": [
    "%%R\n",
    "\n",
    "library(knitr)\n",
    "kable(my_list)"
   ]
  },
  {
   "cell_type": "markdown",
   "metadata": {},
   "source": [
    "This provides us with access to the ```kable()``` function from within the *knitr* library, but there is something concerning here: Unless we knew explicitly that ```kable()``` was defined within that library, it would not be immediately apparent where that function was coming from.  This gets even worse when libraries redefine functions, which can sometimes interfere with their expected operation.  \n",
    "\n",
    "Python provides a much cleaner way to import functions from libraries.  Let's say that we want to import the ```pprint()``` function from the *pprint* library, which can give us a pretty printout of our dictionary.  We do this using the ```import``` statement. There are two ways to go about this.  One is to import the library as a whole, and then refer explicitly to the function as part of the library:"
   ]
  },
  {
   "cell_type": "code",
   "execution_count": 26,
   "metadata": {},
   "outputs": [
    {
     "name": "stdout",
     "output_type": "stream",
     "text": [
      "{'info': 'my list', 'l': [1, 2, 'c', 'd'], 'n': 3}\n"
     ]
    }
   ],
   "source": [
    "import pprint\n",
    "pprint.pprint(my_dict)"
   ]
  },
  {
   "cell_type": "markdown",
   "metadata": {},
   "source": [
    "Another alternative is to import the function from the library, and then refer to it directly:"
   ]
  },
  {
   "cell_type": "code",
   "execution_count": 27,
   "metadata": {},
   "outputs": [
    {
     "name": "stdout",
     "output_type": "stream",
     "text": [
      "{'info': 'my list', 'l': [1, 2, 'c', 'd'], 'n': 3}\n"
     ]
    }
   ],
   "source": [
    "from pprint import pprint\n",
    "pprint(my_dict)"
   ]
  },
  {
   "cell_type": "markdown",
   "metadata": {},
   "source": [
    "I generally prefer the former since it is clearer where the function is coming from, but sometimes it can get a bit unwieldy if the functions are defined deep within a library (as we will see later).\n",
    "\n",
    "It is possible to import all functions from a library, using ```from <library> import *```.  However, **you should never do this**.  It is bad form because then you have no idea where a particular function is coming from.\n",
    "\n",
    "Unlike R, for Python there is an official set of recommendations regarding programming style. You can find it at https://www.python.org/dev/peps/pep-0008/.  Learning good style from the beginning will make your code much more readable - both for others, and for your future self!"
   ]
  },
  {
   "cell_type": "code",
   "execution_count": null,
   "metadata": {},
   "outputs": [],
   "source": []
  },
  {
   "cell_type": "code",
   "execution_count": null,
   "metadata": {},
   "outputs": [],
   "source": []
  }
 ],
 "metadata": {
  "kernelspec": {
   "display_name": "Python 3",
   "language": "python",
   "name": "python3"
  },
  "language_info": {
   "codemirror_mode": {
    "name": "ipython",
    "version": 3
   },
   "file_extension": ".py",
   "mimetype": "text/x-python",
   "name": "python",
   "nbconvert_exporter": "python",
   "pygments_lexer": "ipython3",
   "version": "3.6.8"
  }
 },
 "nbformat": 4,
 "nbformat_minor": 2
}
